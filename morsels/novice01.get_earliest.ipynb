{
 "cells": [
  {
   "cell_type": "markdown",
   "metadata": {},
   "source": [
    "### Problem Statement\n",
    "This exercise includes 1 bonuses and 6 hints (hover over the hint links before clicking on them).\n",
    "\n",
    "We recommend Mixed-level users solve just the base problem for this exercise.\n",
    "\n",
    "This exercise is a somewhat silly one. I'd like you to compare the date strings, but allow invalid dates while comparing them.\n",
    "\n",
    "I want you to write a function that takes two strings representing dates and returns the string that represents the earliest point in time. The strings are in the US-specific MM/DD/YYYY format... just to make things harder. Note that the month, year, and day will always be represented by 2, 4, and 2 digits respectively.\n",
    "\n",
    "Your function should work like this:\n",
    "\n",
    "<img src=\"novice01.png\" alt=\"\" width=\"500\"/>\n",
    "<img align="right" src=\"novice01.png\" alt=\"\" width=\"300\"/>\n",
    "\n",
    "There's a catch though. Your exercise **should work with invalid month and date combinations**. What I mean by that is that dates like 02/40/2006 should be supported. By that I mean 02/40/2006 is before 03/01/2006 but after 02/30/2006 (dates don't roll over at all). I'm adding this requirement so you can't rely on Python's datetime module.\n",
    "\n",
    "There are many ways to solve this. See if you can figure out the clearest and most idiomatic way to solve this exercise. \n",
    "\n",
    "### Bonus\n",
    "If you complete the main exercise, there's also a bonus for you to attempt: allow the function to accept any number of arguments and return the earliest date string of all provided. ✔️\n",
    "\n",
    "So if you complete the bonus, this should work:\n",
    "\n",
    "<img src=\"novice011.png\" alt=\"\" width=\"550\"/>\n",
    "\n",
    "### Hints\n",
    "Hints for **when you get stuck** (hover over links to see what they're about):\n",
    "\n",
    "* [Extracting parts of a string](https://www.pythonmorsels.com/topics/slicing/)\n",
    "* [Splitting a string by a specific character](https://stackoverflow.com/questions/37484624/split-string-at-delimiter-in-python)\n",
    "* [Avoiding manual list index access](https://www.pythonmorsels.com/topics/tuple-unpacking/)\n",
    "* [Avoiding hard-coded indices](https://www.pythonmorsels.com/topics/tuple-unpacking/)\n",
    "* [Comparing items (dates), in the form of a tuple](https://treyhunner.com/2019/03/python-deep-comparisons-and-code-readability/#Tuple_comparisons)\n",
    "* [Writing a function which accepts unlimited arguments](https://www.pythonmorsels.com/topics/accepting-any-number-arguments-function/)"
   ]
  },
  {
   "cell_type": "code",
   "execution_count": null,
   "metadata": {},
   "outputs": [],
   "source": [
    "### solution\n"
   ]
  }
 ],
 "metadata": {
  "kernelspec": {
   "display_name": "Python [conda env:root] *",
   "language": "python",
   "name": "conda-root-py"
  },
  "language_info": {
   "codemirror_mode": {
    "name": "ipython",
    "version": 3
   },
   "file_extension": ".py",
   "mimetype": "text/x-python",
   "name": "python",
   "nbconvert_exporter": "python",
   "pygments_lexer": "ipython3",
   "version": "3.7.1"
  }
 },
 "nbformat": 4,
 "nbformat_minor": 2
}
